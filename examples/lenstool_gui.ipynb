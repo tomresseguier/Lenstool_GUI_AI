{
 "cells": [
  {
   "cell_type": "code",
   "execution_count": 4,
   "id": "95ca46a0",
   "metadata": {},
   "outputs": [
    {
     "name": "stdout",
     "output_type": "stream",
     "text": [
      "File in Drive, replacing:\n",
      "/Users/Margaux/Library/Mobile Documents/com~apple~CloudDocs/RESEARCH/PROCESS/Lenstool_GUI_AI/src/lenstool_gui/source_extraction\n",
      "with:\n",
      "/Users/Margaux/Library/Mobile_Documents/RESEARCH/PROCESS/Lenstool_GUI_AI/src/lenstool_gui/source_extraction\n"
     ]
    },
    {
     "name": "stderr",
     "output_type": "stream",
     "text": [
      "WARNING: Failed to load Vega spectrum from /grp/redcat/trds/calspec/alpha_lyr_stis_010.fits; Functionality involving Vega will be cripped: FileNotFoundError(2, 'No such file or directory') [stsynphot.spectrum]\n"
     ]
    }
   ],
   "source": [
    "import os\n",
    "import sys\n",
    "from PyQt5.QtWidgets import QApplication, QMainWindow, QLabel\n",
    "\n",
    "DATA_dir = os.path.join( os.path.expanduser(\"~\"), 'RESEARCH_DATA/MACS0308/DATA/' )\n",
    "sys.path.append( os.path.join(os.path.expanduser(\"~\"), 'Library/Mobile Documents/com~apple~CloudDocs/RESEARCH/PROCESS/') )\n",
    "from Lenstool_GUI_AI.src.lenstool_gui.fits_image import fits_image"
   ]
  },
  {
   "cell_type": "code",
   "execution_count": null,
   "id": "5c51158f",
   "metadata": {},
   "outputs": [
    {
     "name": "stdout",
     "output_type": "stream",
     "text": [
      "3 image hdus found.\n",
      "HDU 0 contains image data with shape (29048, 22958)\n",
      "HDU 1 contains image data with shape (29048, 22958)\n",
      "HDU 2 contains image data with shape (29048, 22958)\n",
      "3 non empty images found.\n",
      "keyword is None\n",
      "No 'SCI' extname found.\n",
      "Assuming RGB data.\n",
      "Boosted image found: /Users/Margaux/RESEARCH_DATA/MACS0308/DATA/macs0308_rgb_boosted.fits\n",
      "3 image hdus found.\n",
      "HDU 0 contains image data with shape (29048, 22958)\n",
      "HDU 1 contains image data with shape (29048, 22958)\n",
      "HDU 2 contains image data with shape (29048, 22958)\n",
      "3 non empty images found.\n",
      "keyword is None\n",
      "No 'SCI' extname found.\n",
      "Assuming RGB data.\n"
     ]
    }
   ],
   "source": [
    "app = QApplication([])\n",
    "im = fits_image(DATA_dir + \"macs0308_rgb.fits\")\n",
    "#im.boost()"
   ]
  },
  {
   "cell_type": "code",
   "execution_count": null,
   "id": "9f080cce",
   "metadata": {},
   "outputs": [],
   "source": [
    "im.window"
   ]
  }
 ],
 "metadata": {
  "kernelspec": {
   "display_name": "Python 3 (ipykernel)",
   "language": "python",
   "name": "python3"
  },
  "language_info": {
   "codemirror_mode": {
    "name": "ipython",
    "version": 3
   },
   "file_extension": ".py",
   "mimetype": "text/x-python",
   "name": "python",
   "nbconvert_exporter": "python",
   "pygments_lexer": "ipython3",
   "version": "3.9.18"
  }
 },
 "nbformat": 4,
 "nbformat_minor": 5
}
